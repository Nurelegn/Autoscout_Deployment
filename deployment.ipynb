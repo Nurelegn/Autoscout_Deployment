{
 "cells": [
  {
   "cell_type": "code",
   "execution_count": 3,
   "metadata": {
    "id": "sy5EcZ65lzy-"
   },
   "outputs": [],
   "source": [
    "import pandas as pd      \n",
    "import numpy as np \n",
    "from sklearn.metrics import mean_squared_error, mean_absolute_error, r2_score\n",
    "from sklearn.model_selection import train_test_split\n",
    "from sklearn.linear_model import LinearRegression\n",
    "import pickle"
   ]
  },
  {
   "cell_type": "markdown",
   "metadata": {},
   "source": [
    "## Visual Python Upgrade\n",
    "NOTE: \n",
    "- Refresh your web browser to start a new version.\n",
    "- Save VP Note before refreshing the page."
   ]
  },
  {
   "cell_type": "code",
   "execution_count": 2,
   "metadata": {},
   "outputs": [],
   "source": [
    "# Visual Python\n",
    "# !pip install visualpython --upgrade"
   ]
  },
  {
   "cell_type": "code",
   "execution_count": 3,
   "metadata": {},
   "outputs": [],
   "source": [
    "# '# Visual Python\n",
    "# !visualpy install'"
   ]
  },
  {
   "cell_type": "code",
   "execution_count": 4,
   "metadata": {
    "id": "-AJL3lU-lzzA"
   },
   "outputs": [],
   "source": [
    "def eval_metrics(actual, pred):\n",
    "    rmse = np.sqrt(mean_squared_error(actual, pred))\n",
    "    mae = mean_absolute_error(actual, pred)\n",
    "    mse = mean_squared_error(actual, pred)\n",
    "    score = r2_score(actual, pred)\n",
    "    return print(\" r2_score:\", score, \"\\n\",\"mae:\", mae, \"\\n\",\"mse:\",mse, \"\\n\",\"rmse:\",rmse)"
   ]
  },
  {
   "cell_type": "code",
   "execution_count": 5,
   "metadata": {},
   "outputs": [],
   "source": [
    "df = pd.read_csv(\"df_FinalAuto_scout.csv\")"
   ]
  },
  {
   "cell_type": "code",
   "execution_count": 6,
   "metadata": {},
   "outputs": [
    {
     "data": {
      "text/html": [
       "<div>\n",
       "<style scoped>\n",
       "    .dataframe tbody tr th:only-of-type {\n",
       "        vertical-align: middle;\n",
       "    }\n",
       "\n",
       "    .dataframe tbody tr th {\n",
       "        vertical-align: top;\n",
       "    }\n",
       "\n",
       "    .dataframe thead th {\n",
       "        text-align: right;\n",
       "    }\n",
       "</style>\n",
       "<table border=\"1\" class=\"dataframe\">\n",
       "  <thead>\n",
       "    <tr style=\"text-align: right;\">\n",
       "      <th></th>\n",
       "      <th>make_model</th>\n",
       "      <th>body_type</th>\n",
       "      <th>price</th>\n",
       "      <th>vat</th>\n",
       "      <th>km</th>\n",
       "      <th>Gears</th>\n",
       "      <th>age</th>\n",
       "      <th>Previous_Owners</th>\n",
       "      <th>hp_kW</th>\n",
       "      <th>Inspection_new</th>\n",
       "      <th>Upholstery_type</th>\n",
       "      <th>Gearing_Type</th>\n",
       "      <th>Displacement_cc</th>\n",
       "      <th>Weight_kg</th>\n",
       "      <th>cons_comb</th>\n",
       "    </tr>\n",
       "  </thead>\n",
       "  <tbody>\n",
       "    <tr>\n",
       "      <th>0</th>\n",
       "      <td>Audi A1</td>\n",
       "      <td>Sedans</td>\n",
       "      <td>15770</td>\n",
       "      <td>VAT deductible</td>\n",
       "      <td>56013.0</td>\n",
       "      <td>7.0</td>\n",
       "      <td>3.0</td>\n",
       "      <td>2.0</td>\n",
       "      <td>66.0</td>\n",
       "      <td>1</td>\n",
       "      <td>Cloth</td>\n",
       "      <td>Automatic</td>\n",
       "      <td>1422.0</td>\n",
       "      <td>1220.0</td>\n",
       "      <td>3.8</td>\n",
       "    </tr>\n",
       "    <tr>\n",
       "      <th>1</th>\n",
       "      <td>Audi A1</td>\n",
       "      <td>Sedans</td>\n",
       "      <td>14500</td>\n",
       "      <td>Price negotiable</td>\n",
       "      <td>80000.0</td>\n",
       "      <td>7.0</td>\n",
       "      <td>2.0</td>\n",
       "      <td>1.0</td>\n",
       "      <td>141.0</td>\n",
       "      <td>0</td>\n",
       "      <td>Cloth</td>\n",
       "      <td>Automatic</td>\n",
       "      <td>1798.0</td>\n",
       "      <td>1255.0</td>\n",
       "      <td>5.6</td>\n",
       "    </tr>\n",
       "    <tr>\n",
       "      <th>2</th>\n",
       "      <td>Audi A1</td>\n",
       "      <td>Sedans</td>\n",
       "      <td>14640</td>\n",
       "      <td>VAT deductible</td>\n",
       "      <td>83450.0</td>\n",
       "      <td>7.0</td>\n",
       "      <td>3.0</td>\n",
       "      <td>1.0</td>\n",
       "      <td>85.0</td>\n",
       "      <td>0</td>\n",
       "      <td>Cloth</td>\n",
       "      <td>Automatic</td>\n",
       "      <td>1598.0</td>\n",
       "      <td>1135.0</td>\n",
       "      <td>3.8</td>\n",
       "    </tr>\n",
       "    <tr>\n",
       "      <th>3</th>\n",
       "      <td>Audi A1</td>\n",
       "      <td>Sedans</td>\n",
       "      <td>14500</td>\n",
       "      <td>VAT deductible</td>\n",
       "      <td>73000.0</td>\n",
       "      <td>6.0</td>\n",
       "      <td>3.0</td>\n",
       "      <td>1.0</td>\n",
       "      <td>66.0</td>\n",
       "      <td>0</td>\n",
       "      <td>Cloth</td>\n",
       "      <td>Automatic</td>\n",
       "      <td>1422.0</td>\n",
       "      <td>1195.0</td>\n",
       "      <td>3.8</td>\n",
       "    </tr>\n",
       "    <tr>\n",
       "      <th>4</th>\n",
       "      <td>Audi A1</td>\n",
       "      <td>Sedans</td>\n",
       "      <td>16790</td>\n",
       "      <td>VAT deductible</td>\n",
       "      <td>16200.0</td>\n",
       "      <td>7.0</td>\n",
       "      <td>3.0</td>\n",
       "      <td>1.0</td>\n",
       "      <td>66.0</td>\n",
       "      <td>1</td>\n",
       "      <td>Cloth</td>\n",
       "      <td>Automatic</td>\n",
       "      <td>1422.0</td>\n",
       "      <td>1135.0</td>\n",
       "      <td>4.1</td>\n",
       "    </tr>\n",
       "  </tbody>\n",
       "</table>\n",
       "</div>"
      ],
      "text/plain": [
       "  make_model body_type  price               vat       km  Gears  age  \\\n",
       "0    Audi A1    Sedans  15770    VAT deductible  56013.0    7.0  3.0   \n",
       "1    Audi A1    Sedans  14500  Price negotiable  80000.0    7.0  2.0   \n",
       "2    Audi A1    Sedans  14640    VAT deductible  83450.0    7.0  3.0   \n",
       "3    Audi A1    Sedans  14500    VAT deductible  73000.0    6.0  3.0   \n",
       "4    Audi A1    Sedans  16790    VAT deductible  16200.0    7.0  3.0   \n",
       "\n",
       "   Previous_Owners  hp_kW  Inspection_new Upholstery_type Gearing_Type  \\\n",
       "0              2.0   66.0               1           Cloth    Automatic   \n",
       "1              1.0  141.0               0           Cloth    Automatic   \n",
       "2              1.0   85.0               0           Cloth    Automatic   \n",
       "3              1.0   66.0               0           Cloth    Automatic   \n",
       "4              1.0   66.0               1           Cloth    Automatic   \n",
       "\n",
       "   Displacement_cc  Weight_kg  cons_comb  \n",
       "0           1422.0     1220.0        3.8  \n",
       "1           1798.0     1255.0        5.6  \n",
       "2           1598.0     1135.0        3.8  \n",
       "3           1422.0     1195.0        3.8  \n",
       "4           1422.0     1135.0        4.1  "
      ]
     },
     "execution_count": 6,
     "metadata": {},
     "output_type": "execute_result"
    }
   ],
   "source": [
    "df.head()"
   ]
  },
  {
   "cell_type": "code",
   "execution_count": 7,
   "metadata": {
    "id": "m5YCa1j_yaza",
    "outputId": "43293c13-7910-4be9-d0b9-ff39ba8673ff"
   },
   "outputs": [
    {
     "name": "stdout",
     "output_type": "stream",
     "text": [
      "<class 'pandas.core.frame.DataFrame'>\n",
      "RangeIndex: 13921 entries, 0 to 13920\n",
      "Data columns (total 15 columns):\n",
      " #   Column           Non-Null Count  Dtype  \n",
      "---  ------           --------------  -----  \n",
      " 0   make_model       13921 non-null  object \n",
      " 1   body_type        13921 non-null  object \n",
      " 2   price            13921 non-null  int64  \n",
      " 3   vat              13921 non-null  object \n",
      " 4   km               13921 non-null  float64\n",
      " 5   Gears            13921 non-null  float64\n",
      " 6   age              13921 non-null  float64\n",
      " 7   Previous_Owners  13921 non-null  float64\n",
      " 8   hp_kW            13921 non-null  float64\n",
      " 9   Inspection_new   13921 non-null  int64  \n",
      " 10  Upholstery_type  13921 non-null  object \n",
      " 11  Gearing_Type     13921 non-null  object \n",
      " 12  Displacement_cc  13921 non-null  float64\n",
      " 13  Weight_kg        13921 non-null  float64\n",
      " 14  cons_comb        13921 non-null  float64\n",
      "dtypes: float64(8), int64(2), object(5)\n",
      "memory usage: 1.6+ MB\n"
     ]
    }
   ],
   "source": [
    "df.info()"
   ]
  },
  {
   "cell_type": "code",
   "execution_count": 13,
   "metadata": {},
   "outputs": [],
   "source": [
    "df2 = df[[\"age\", 'hp_kW', 'km' ,'Gearing_Type','make_model', \"price\" ]].copy()"
   ]
  },
  {
   "cell_type": "code",
   "execution_count": 14,
   "metadata": {},
   "outputs": [
    {
     "data": {
      "text/html": [
       "<div>\n",
       "<style scoped>\n",
       "    .dataframe tbody tr th:only-of-type {\n",
       "        vertical-align: middle;\n",
       "    }\n",
       "\n",
       "    .dataframe tbody tr th {\n",
       "        vertical-align: top;\n",
       "    }\n",
       "\n",
       "    .dataframe thead th {\n",
       "        text-align: right;\n",
       "    }\n",
       "</style>\n",
       "<table border=\"1\" class=\"dataframe\">\n",
       "  <thead>\n",
       "    <tr style=\"text-align: right;\">\n",
       "      <th></th>\n",
       "      <th>age</th>\n",
       "      <th>hp_kW</th>\n",
       "      <th>km</th>\n",
       "      <th>Gearing_Type</th>\n",
       "      <th>make_model</th>\n",
       "      <th>price</th>\n",
       "    </tr>\n",
       "  </thead>\n",
       "  <tbody>\n",
       "    <tr>\n",
       "      <th>0</th>\n",
       "      <td>3.0</td>\n",
       "      <td>66.0</td>\n",
       "      <td>56013.0</td>\n",
       "      <td>Automatic</td>\n",
       "      <td>Audi A1</td>\n",
       "      <td>15770</td>\n",
       "    </tr>\n",
       "    <tr>\n",
       "      <th>1</th>\n",
       "      <td>2.0</td>\n",
       "      <td>141.0</td>\n",
       "      <td>80000.0</td>\n",
       "      <td>Automatic</td>\n",
       "      <td>Audi A1</td>\n",
       "      <td>14500</td>\n",
       "    </tr>\n",
       "    <tr>\n",
       "      <th>2</th>\n",
       "      <td>3.0</td>\n",
       "      <td>85.0</td>\n",
       "      <td>83450.0</td>\n",
       "      <td>Automatic</td>\n",
       "      <td>Audi A1</td>\n",
       "      <td>14640</td>\n",
       "    </tr>\n",
       "    <tr>\n",
       "      <th>3</th>\n",
       "      <td>3.0</td>\n",
       "      <td>66.0</td>\n",
       "      <td>73000.0</td>\n",
       "      <td>Automatic</td>\n",
       "      <td>Audi A1</td>\n",
       "      <td>14500</td>\n",
       "    </tr>\n",
       "    <tr>\n",
       "      <th>4</th>\n",
       "      <td>3.0</td>\n",
       "      <td>66.0</td>\n",
       "      <td>16200.0</td>\n",
       "      <td>Automatic</td>\n",
       "      <td>Audi A1</td>\n",
       "      <td>16790</td>\n",
       "    </tr>\n",
       "  </tbody>\n",
       "</table>\n",
       "</div>"
      ],
      "text/plain": [
       "   age  hp_kW       km Gearing_Type make_model  price\n",
       "0  3.0   66.0  56013.0    Automatic    Audi A1  15770\n",
       "1  2.0  141.0  80000.0    Automatic    Audi A1  14500\n",
       "2  3.0   85.0  83450.0    Automatic    Audi A1  14640\n",
       "3  3.0   66.0  73000.0    Automatic    Audi A1  14500\n",
       "4  3.0   66.0  16200.0    Automatic    Audi A1  16790"
      ]
     },
     "execution_count": 14,
     "metadata": {},
     "output_type": "execute_result"
    }
   ],
   "source": [
    "df2.head()"
   ]
  },
  {
   "cell_type": "code",
   "execution_count": 15,
   "metadata": {
    "id": "ojUll31ZlzzD"
   },
   "outputs": [],
   "source": [
    "X= df2.drop(\"price\", axis=1)\n",
    "y= df2[\"price\"]\n",
    "X_train, X_test, y_train, y_test = train_test_split(X, y, test_size=0.3, random_state=42)\n",
    "\n"
   ]
  },
  {
   "cell_type": "code",
   "execution_count": 32,
   "metadata": {},
   "outputs": [
    {
     "data": {
      "text/plain": [
       "Index(['Gearing_Type', 'make_model'], dtype='object')"
      ]
     },
     "execution_count": 32,
     "metadata": {},
     "output_type": "execute_result"
    }
   ],
   "source": [
    "cat = X_train.select_dtypes(\"object\").columns\n",
    "cat"
   ]
  },
  {
   "cell_type": "code",
   "execution_count": 33,
   "metadata": {},
   "outputs": [],
   "source": [
    "from sklearn.compose import make_column_transformer\n",
    "from sklearn.preprocessing import OrdinalEncoder\n",
    "\n",
    "\n",
    "ord_enc = OrdinalEncoder(handle_unknown=\"use_encoded_value\", unknown_value=-1)\n",
    "\n",
    "column_trans = make_column_transformer(\n",
    "    (ord_enc, cat), remainder=\"passthrough\", verbose_feature_names_out=False\n",
    ").set_output(transform=\"pandas\")"
   ]
  },
  {
   "cell_type": "code",
   "execution_count": 34,
   "metadata": {},
   "outputs": [
    {
     "data": {
      "text/html": [
       "<style>#sk-container-id-3 {color: black;background-color: white;}#sk-container-id-3 pre{padding: 0;}#sk-container-id-3 div.sk-toggleable {background-color: white;}#sk-container-id-3 label.sk-toggleable__label {cursor: pointer;display: block;width: 100%;margin-bottom: 0;padding: 0.3em;box-sizing: border-box;text-align: center;}#sk-container-id-3 label.sk-toggleable__label-arrow:before {content: \"▸\";float: left;margin-right: 0.25em;color: #696969;}#sk-container-id-3 label.sk-toggleable__label-arrow:hover:before {color: black;}#sk-container-id-3 div.sk-estimator:hover label.sk-toggleable__label-arrow:before {color: black;}#sk-container-id-3 div.sk-toggleable__content {max-height: 0;max-width: 0;overflow: hidden;text-align: left;background-color: #f0f8ff;}#sk-container-id-3 div.sk-toggleable__content pre {margin: 0.2em;color: black;border-radius: 0.25em;background-color: #f0f8ff;}#sk-container-id-3 input.sk-toggleable__control:checked~div.sk-toggleable__content {max-height: 200px;max-width: 100%;overflow: auto;}#sk-container-id-3 input.sk-toggleable__control:checked~label.sk-toggleable__label-arrow:before {content: \"▾\";}#sk-container-id-3 div.sk-estimator input.sk-toggleable__control:checked~label.sk-toggleable__label {background-color: #d4ebff;}#sk-container-id-3 div.sk-label input.sk-toggleable__control:checked~label.sk-toggleable__label {background-color: #d4ebff;}#sk-container-id-3 input.sk-hidden--visually {border: 0;clip: rect(1px 1px 1px 1px);clip: rect(1px, 1px, 1px, 1px);height: 1px;margin: -1px;overflow: hidden;padding: 0;position: absolute;width: 1px;}#sk-container-id-3 div.sk-estimator {font-family: monospace;background-color: #f0f8ff;border: 1px dotted black;border-radius: 0.25em;box-sizing: border-box;margin-bottom: 0.5em;}#sk-container-id-3 div.sk-estimator:hover {background-color: #d4ebff;}#sk-container-id-3 div.sk-parallel-item::after {content: \"\";width: 100%;border-bottom: 1px solid gray;flex-grow: 1;}#sk-container-id-3 div.sk-label:hover label.sk-toggleable__label {background-color: #d4ebff;}#sk-container-id-3 div.sk-serial::before {content: \"\";position: absolute;border-left: 1px solid gray;box-sizing: border-box;top: 0;bottom: 0;left: 50%;z-index: 0;}#sk-container-id-3 div.sk-serial {display: flex;flex-direction: column;align-items: center;background-color: white;padding-right: 0.2em;padding-left: 0.2em;position: relative;}#sk-container-id-3 div.sk-item {position: relative;z-index: 1;}#sk-container-id-3 div.sk-parallel {display: flex;align-items: stretch;justify-content: center;background-color: white;position: relative;}#sk-container-id-3 div.sk-item::before, #sk-container-id-3 div.sk-parallel-item::before {content: \"\";position: absolute;border-left: 1px solid gray;box-sizing: border-box;top: 0;bottom: 0;left: 50%;z-index: -1;}#sk-container-id-3 div.sk-parallel-item {display: flex;flex-direction: column;z-index: 1;position: relative;background-color: white;}#sk-container-id-3 div.sk-parallel-item:first-child::after {align-self: flex-end;width: 50%;}#sk-container-id-3 div.sk-parallel-item:last-child::after {align-self: flex-start;width: 50%;}#sk-container-id-3 div.sk-parallel-item:only-child::after {width: 0;}#sk-container-id-3 div.sk-dashed-wrapped {border: 1px dashed gray;margin: 0 0.4em 0.5em 0.4em;box-sizing: border-box;padding-bottom: 0.4em;background-color: white;}#sk-container-id-3 div.sk-label label {font-family: monospace;font-weight: bold;display: inline-block;line-height: 1.2em;}#sk-container-id-3 div.sk-label-container {text-align: center;}#sk-container-id-3 div.sk-container {/* jupyter's `normalize.less` sets `[hidden] { display: none; }` but bootstrap.min.css set `[hidden] { display: none !important; }` so we also need the `!important` here to be able to override the default hidden behavior on the sphinx rendered scikit-learn.org. See: https://github.com/scikit-learn/scikit-learn/issues/21755 */display: inline-block !important;position: relative;}#sk-container-id-3 div.sk-text-repr-fallback {display: none;}</style><div id=\"sk-container-id-3\" class=\"sk-top-container\"><div class=\"sk-text-repr-fallback\"><pre>Pipeline(steps=[(&#x27;OrdinalEncoder&#x27;,\n",
       "                 ColumnTransformer(remainder=&#x27;passthrough&#x27;,\n",
       "                                   transformers=[(&#x27;ordinalencoder&#x27;,\n",
       "                                                  OrdinalEncoder(handle_unknown=&#x27;use_encoded_value&#x27;,\n",
       "                                                                 unknown_value=-1),\n",
       "                                                  Index([&#x27;Gearing_Type&#x27;, &#x27;make_model&#x27;], dtype=&#x27;object&#x27;))],\n",
       "                                   verbose_feature_names_out=False)),\n",
       "                (&#x27;DT_model&#x27;, DecisionTreeRegressor(random_state=101))])</pre><b>In a Jupyter environment, please rerun this cell to show the HTML representation or trust the notebook. <br />On GitHub, the HTML representation is unable to render, please try loading this page with nbviewer.org.</b></div><div class=\"sk-container\" hidden><div class=\"sk-item sk-dashed-wrapped\"><div class=\"sk-label-container\"><div class=\"sk-label sk-toggleable\"><input class=\"sk-toggleable__control sk-hidden--visually\" id=\"sk-estimator-id-3\" type=\"checkbox\" ><label for=\"sk-estimator-id-3\" class=\"sk-toggleable__label sk-toggleable__label-arrow\">Pipeline</label><div class=\"sk-toggleable__content\"><pre>Pipeline(steps=[(&#x27;OrdinalEncoder&#x27;,\n",
       "                 ColumnTransformer(remainder=&#x27;passthrough&#x27;,\n",
       "                                   transformers=[(&#x27;ordinalencoder&#x27;,\n",
       "                                                  OrdinalEncoder(handle_unknown=&#x27;use_encoded_value&#x27;,\n",
       "                                                                 unknown_value=-1),\n",
       "                                                  Index([&#x27;Gearing_Type&#x27;, &#x27;make_model&#x27;], dtype=&#x27;object&#x27;))],\n",
       "                                   verbose_feature_names_out=False)),\n",
       "                (&#x27;DT_model&#x27;, DecisionTreeRegressor(random_state=101))])</pre></div></div></div><div class=\"sk-serial\"><div class=\"sk-item sk-dashed-wrapped\"><div class=\"sk-label-container\"><div class=\"sk-label sk-toggleable\"><input class=\"sk-toggleable__control sk-hidden--visually\" id=\"sk-estimator-id-4\" type=\"checkbox\" ><label for=\"sk-estimator-id-4\" class=\"sk-toggleable__label sk-toggleable__label-arrow\">OrdinalEncoder: ColumnTransformer</label><div class=\"sk-toggleable__content\"><pre>ColumnTransformer(remainder=&#x27;passthrough&#x27;,\n",
       "                  transformers=[(&#x27;ordinalencoder&#x27;,\n",
       "                                 OrdinalEncoder(handle_unknown=&#x27;use_encoded_value&#x27;,\n",
       "                                                unknown_value=-1),\n",
       "                                 Index([&#x27;Gearing_Type&#x27;, &#x27;make_model&#x27;], dtype=&#x27;object&#x27;))],\n",
       "                  verbose_feature_names_out=False)</pre></div></div></div><div class=\"sk-parallel\"><div class=\"sk-parallel-item\"><div class=\"sk-item\"><div class=\"sk-label-container\"><div class=\"sk-label sk-toggleable\"><input class=\"sk-toggleable__control sk-hidden--visually\" id=\"sk-estimator-id-5\" type=\"checkbox\" ><label for=\"sk-estimator-id-5\" class=\"sk-toggleable__label sk-toggleable__label-arrow\">ordinalencoder</label><div class=\"sk-toggleable__content\"><pre>Index([&#x27;Gearing_Type&#x27;, &#x27;make_model&#x27;], dtype=&#x27;object&#x27;)</pre></div></div></div><div class=\"sk-serial\"><div class=\"sk-item\"><div class=\"sk-estimator sk-toggleable\"><input class=\"sk-toggleable__control sk-hidden--visually\" id=\"sk-estimator-id-6\" type=\"checkbox\" ><label for=\"sk-estimator-id-6\" class=\"sk-toggleable__label sk-toggleable__label-arrow\">OrdinalEncoder</label><div class=\"sk-toggleable__content\"><pre>OrdinalEncoder(handle_unknown=&#x27;use_encoded_value&#x27;, unknown_value=-1)</pre></div></div></div></div></div></div><div class=\"sk-parallel-item\"><div class=\"sk-item\"><div class=\"sk-label-container\"><div class=\"sk-label sk-toggleable\"><input class=\"sk-toggleable__control sk-hidden--visually\" id=\"sk-estimator-id-7\" type=\"checkbox\" ><label for=\"sk-estimator-id-7\" class=\"sk-toggleable__label sk-toggleable__label-arrow\">remainder</label><div class=\"sk-toggleable__content\"><pre>[&#x27;age&#x27;, &#x27;hp_kW&#x27;, &#x27;km&#x27;]</pre></div></div></div><div class=\"sk-serial\"><div class=\"sk-item\"><div class=\"sk-estimator sk-toggleable\"><input class=\"sk-toggleable__control sk-hidden--visually\" id=\"sk-estimator-id-8\" type=\"checkbox\" ><label for=\"sk-estimator-id-8\" class=\"sk-toggleable__label sk-toggleable__label-arrow\">passthrough</label><div class=\"sk-toggleable__content\"><pre>passthrough</pre></div></div></div></div></div></div></div></div><div class=\"sk-item\"><div class=\"sk-estimator sk-toggleable\"><input class=\"sk-toggleable__control sk-hidden--visually\" id=\"sk-estimator-id-9\" type=\"checkbox\" ><label for=\"sk-estimator-id-9\" class=\"sk-toggleable__label sk-toggleable__label-arrow\">DecisionTreeRegressor</label><div class=\"sk-toggleable__content\"><pre>DecisionTreeRegressor(random_state=101)</pre></div></div></div></div></div></div></div>"
      ],
      "text/plain": [
       "Pipeline(steps=[('OrdinalEncoder',\n",
       "                 ColumnTransformer(remainder='passthrough',\n",
       "                                   transformers=[('ordinalencoder',\n",
       "                                                  OrdinalEncoder(handle_unknown='use_encoded_value',\n",
       "                                                                 unknown_value=-1),\n",
       "                                                  Index(['Gearing_Type', 'make_model'], dtype='object'))],\n",
       "                                   verbose_feature_names_out=False)),\n",
       "                ('DT_model', DecisionTreeRegressor(random_state=101))])"
      ]
     },
     "execution_count": 34,
     "metadata": {},
     "output_type": "execute_result"
    }
   ],
   "source": [
    "from sklearn.pipeline import Pipeline\n",
    "from sklearn.tree import DecisionTreeClassifier, DecisionTreeRegressor\n",
    "\n",
    "\n",
    "operations = [\n",
    "    (\"OrdinalEncoder\", column_trans),\n",
    "    (\"DT_model\", DecisionTreeRegressor(random_state=101)),\n",
    "]\n",
    "\n",
    "pipe_model = Pipeline(steps=operations)\n",
    "\n",
    "pipe_model.fit(X_train, y_train)"
   ]
  },
  {
   "cell_type": "code",
   "execution_count": 35,
   "metadata": {},
   "outputs": [],
   "source": [
    "from sklearn.metrics import r2_score, mean_absolute_error, mean_squared_error"
   ]
  },
  {
   "cell_type": "code",
   "execution_count": 36,
   "metadata": {},
   "outputs": [],
   "source": [
    "def train_val(model, X_train, y_train, X_test, y_test):\n",
    "    y_pred = model.predict(X_test)\n",
    "    y_train_pred = model.predict(X_train)\n",
    "\n",
    "    scores = {\n",
    "        \"train\": {\n",
    "            \"R2\": r2_score(y_train, y_train_pred),\n",
    "            \"mae\": mean_absolute_error(y_train, y_train_pred),\n",
    "            \"mse\": mean_squared_error(y_train, y_train_pred, squared=True),\n",
    "            \"rmse\": mean_squared_error(y_train, y_train_pred, squared=False),\n",
    "        },\n",
    "        \"test\": {\n",
    "            \"R2\": r2_score(y_test, y_pred),\n",
    "            \"mae\": mean_absolute_error(y_test, y_pred),\n",
    "            \"mse\": mean_squared_error(y_test, y_pred, squared=True),\n",
    "            \"rmse\": mean_squared_error(y_test, y_pred, squared=False),\n",
    "        },\n",
    "    }\n",
    "\n",
    "    return pd.DataFrame(scores)"
   ]
  },
  {
   "cell_type": "code",
   "execution_count": 37,
   "metadata": {},
   "outputs": [
    {
     "data": {
      "text/html": [
       "<div>\n",
       "<style scoped>\n",
       "    .dataframe tbody tr th:only-of-type {\n",
       "        vertical-align: middle;\n",
       "    }\n",
       "\n",
       "    .dataframe tbody tr th {\n",
       "        vertical-align: top;\n",
       "    }\n",
       "\n",
       "    .dataframe thead th {\n",
       "        text-align: right;\n",
       "    }\n",
       "</style>\n",
       "<table border=\"1\" class=\"dataframe\">\n",
       "  <thead>\n",
       "    <tr style=\"text-align: right;\">\n",
       "      <th></th>\n",
       "      <th>train</th>\n",
       "      <th>test</th>\n",
       "    </tr>\n",
       "  </thead>\n",
       "  <tbody>\n",
       "    <tr>\n",
       "      <th>R2</th>\n",
       "      <td>9.810101e-01</td>\n",
       "      <td>8.967622e-01</td>\n",
       "    </tr>\n",
       "    <tr>\n",
       "      <th>mae</th>\n",
       "      <td>3.109029e+02</td>\n",
       "      <td>1.379333e+03</td>\n",
       "    </tr>\n",
       "    <tr>\n",
       "      <th>mse</th>\n",
       "      <td>1.013984e+06</td>\n",
       "      <td>5.496845e+06</td>\n",
       "    </tr>\n",
       "    <tr>\n",
       "      <th>rmse</th>\n",
       "      <td>1.006968e+03</td>\n",
       "      <td>2.344535e+03</td>\n",
       "    </tr>\n",
       "  </tbody>\n",
       "</table>\n",
       "</div>"
      ],
      "text/plain": [
       "             train          test\n",
       "R2    9.810101e-01  8.967622e-01\n",
       "mae   3.109029e+02  1.379333e+03\n",
       "mse   1.013984e+06  5.496845e+06\n",
       "rmse  1.006968e+03  2.344535e+03"
      ]
     },
     "execution_count": 37,
     "metadata": {},
     "output_type": "execute_result"
    }
   ],
   "source": [
    "train_val(pipe_model, X_train, y_train, X_test, y_test)"
   ]
  },
  {
   "cell_type": "code",
   "execution_count": 38,
   "metadata": {},
   "outputs": [
    {
     "data": {
      "text/html": [
       "<div>\n",
       "<style scoped>\n",
       "    .dataframe tbody tr th:only-of-type {\n",
       "        vertical-align: middle;\n",
       "    }\n",
       "\n",
       "    .dataframe tbody tr th {\n",
       "        vertical-align: top;\n",
       "    }\n",
       "\n",
       "    .dataframe thead th {\n",
       "        text-align: right;\n",
       "    }\n",
       "</style>\n",
       "<table border=\"1\" class=\"dataframe\">\n",
       "  <thead>\n",
       "    <tr style=\"text-align: right;\">\n",
       "      <th></th>\n",
       "      <th>train</th>\n",
       "      <th>test</th>\n",
       "    </tr>\n",
       "  </thead>\n",
       "  <tbody>\n",
       "    <tr>\n",
       "      <th>R2</th>\n",
       "      <td>0.981</td>\n",
       "      <td>0.897</td>\n",
       "    </tr>\n",
       "    <tr>\n",
       "      <th>mae</th>\n",
       "      <td>310.903</td>\n",
       "      <td>1379.333</td>\n",
       "    </tr>\n",
       "    <tr>\n",
       "      <th>mse</th>\n",
       "      <td>1013983.855</td>\n",
       "      <td>5496845.247</td>\n",
       "    </tr>\n",
       "    <tr>\n",
       "      <th>rmse</th>\n",
       "      <td>1006.968</td>\n",
       "      <td>2344.535</td>\n",
       "    </tr>\n",
       "  </tbody>\n",
       "</table>\n",
       "</div>"
      ],
      "text/plain": [
       "           train        test\n",
       "R2         0.981       0.897\n",
       "mae      310.903    1379.333\n",
       "mse  1013983.855 5496845.247\n",
       "rmse    1006.968    2344.535"
      ]
     },
     "execution_count": 38,
     "metadata": {},
     "output_type": "execute_result"
    }
   ],
   "source": [
    "pd.options.display.float_format = \"{:.3f}\".format\n",
    "train_val(pipe_model, X_train, y_train, X_test, y_test)"
   ]
  },
  {
   "cell_type": "code",
   "execution_count": 39,
   "metadata": {},
   "outputs": [
    {
     "data": {
      "text/plain": [
       "test_r2                                    0.892\n",
       "train_r2                                   0.982\n",
       "test_neg_mean_absolute_error           -1442.827\n",
       "train_neg_mean_absolute_error           -303.103\n",
       "test_neg_mean_squared_error         -5725014.421\n",
       "train_neg_mean_squared_error         -987295.209\n",
       "test_neg_root_mean_squared_error       -2386.379\n",
       "train_neg_root_mean_squared_error       -993.560\n",
       "dtype: float64"
      ]
     },
     "execution_count": 39,
     "metadata": {},
     "output_type": "execute_result"
    }
   ],
   "source": [
    "from sklearn.model_selection import cross_validate\n",
    "\n",
    "operations = [\n",
    "    (\"OrdinalEncoder\", column_trans),\n",
    "    (\"DT_model\", DecisionTreeRegressor(random_state=101)),\n",
    "]\n",
    "model = Pipeline(steps=operations)\n",
    "\n",
    "scores = cross_validate(\n",
    "    model,\n",
    "    X_train,\n",
    "    y_train,\n",
    "    scoring=[\n",
    "        \"r2\",\n",
    "        \"neg_mean_absolute_error\",\n",
    "        \"neg_mean_squared_error\",\n",
    "        \"neg_root_mean_squared_error\",\n",
    "    ],\n",
    "    cv=10,\n",
    "    return_train_score=True,\n",
    ")\n",
    "\n",
    "df_scores = pd.DataFrame(scores)\n",
    "df_scores.mean()[2:]"
   ]
  },
  {
   "cell_type": "code",
   "execution_count": 41,
   "metadata": {},
   "outputs": [
    {
     "name": "stdout",
     "output_type": "stream",
     "text": [
      " r2_score: 0.8967622393667474 \n",
      " mae: 1379.33296144056 \n",
      " mse: 5496845.2472041715 \n",
      " rmse: 2344.5351878792885\n"
     ]
    }
   ],
   "source": [
    "y_pred = pipe_model.predict(X_test)\n",
    "eval_metrics(y_test, y_pred)"
   ]
  },
  {
   "cell_type": "code",
   "execution_count": 42,
   "metadata": {},
   "outputs": [],
   "source": [
    "filename = 'my_model'\n",
    "pickle.dump(pipe_model, open(filename, 'wb'))"
   ]
  },
  {
   "cell_type": "markdown",
   "metadata": {
    "id": "P2MKZLnKyazb"
   },
   "source": [
    "**deployment**"
   ]
  },
  {
   "cell_type": "code",
   "execution_count": 43,
   "metadata": {
    "id": "OaLvPy5qyazd"
   },
   "outputs": [],
   "source": [
    "final_model = pickle.load(open('my_model', 'rb'))"
   ]
  },
  {
   "cell_type": "code",
   "execution_count": 44,
   "metadata": {
    "id": "71tRDDEByaze",
    "outputId": "793071f5-5d4b-49c4-dbe6-0f61b634ec4a"
   },
   "outputs": [
    {
     "data": {
      "text/plain": [
       "['age', 'hp_kW', 'km', 'Gearing_Type', 'make_model']"
      ]
     },
     "execution_count": 44,
     "metadata": {},
     "output_type": "execute_result"
    }
   ],
   "source": [
    "columns=list(X.columns)\n",
    "columns"
   ]
  },
  {
   "cell_type": "code",
   "execution_count": 50,
   "metadata": {
    "id": "drlsuNlJyaze"
   },
   "outputs": [],
   "source": [
    "my_dict = {\n",
    "    \"age\": 2,\n",
    "    'hp_kW': 1000,\n",
    "    'km' : 85000,\n",
    "    'Gearing_Type': \"manual\",\n",
    "    'make_model' :\"Audi A1\",\n",
    "}"
   ]
  },
  {
   "cell_type": "code",
   "execution_count": 51,
   "metadata": {
    "id": "Z8AAfSHByazf"
   },
   "outputs": [],
   "source": [
    "df = pd.DataFrame.from_dict([my_dict])"
   ]
  },
  {
   "cell_type": "code",
   "execution_count": 52,
   "metadata": {
    "id": "rIWNSwxSyazf",
    "outputId": "acdccea1-c57c-4c00-db06-d53ab4fed1d0"
   },
   "outputs": [
    {
     "data": {
      "text/html": [
       "<div>\n",
       "<style scoped>\n",
       "    .dataframe tbody tr th:only-of-type {\n",
       "        vertical-align: middle;\n",
       "    }\n",
       "\n",
       "    .dataframe tbody tr th {\n",
       "        vertical-align: top;\n",
       "    }\n",
       "\n",
       "    .dataframe thead th {\n",
       "        text-align: right;\n",
       "    }\n",
       "</style>\n",
       "<table border=\"1\" class=\"dataframe\">\n",
       "  <thead>\n",
       "    <tr style=\"text-align: right;\">\n",
       "      <th></th>\n",
       "      <th>age</th>\n",
       "      <th>hp_kW</th>\n",
       "      <th>km</th>\n",
       "      <th>Gearing_Type</th>\n",
       "      <th>make_model</th>\n",
       "    </tr>\n",
       "  </thead>\n",
       "  <tbody>\n",
       "    <tr>\n",
       "      <th>0</th>\n",
       "      <td>2</td>\n",
       "      <td>1000</td>\n",
       "      <td>85000</td>\n",
       "      <td>manual</td>\n",
       "      <td>Audi A1</td>\n",
       "    </tr>\n",
       "  </tbody>\n",
       "</table>\n",
       "</div>"
      ],
      "text/plain": [
       "   age  hp_kW     km Gearing_Type make_model\n",
       "0    2   1000  85000       manual    Audi A1"
      ]
     },
     "execution_count": 52,
     "metadata": {},
     "output_type": "execute_result"
    }
   ],
   "source": [
    "df"
   ]
  },
  {
   "cell_type": "code",
   "execution_count": 53,
   "metadata": {
    "id": "l-JTNWYCyazf",
    "outputId": "b7571b35-495e-41a2-cefa-af7439cf776e"
   },
   "outputs": [
    {
     "name": "stdout",
     "output_type": "stream",
     "text": [
      "[57400.]\n"
     ]
    }
   ],
   "source": [
    "prediction = final_model.predict(df)\n",
    "print(prediction)"
   ]
  },
  {
   "cell_type": "code",
   "execution_count": 54,
   "metadata": {
    "id": "08V-iAGsyazg",
    "outputId": "e4c6c469-4c98-47dc-8bc0-1dcaa9e56d3d"
   },
   "outputs": [
    {
     "name": "stdout",
     "output_type": "stream",
     "text": [
      "The estimated value of sales is 57400. \n"
     ]
    }
   ],
   "source": [
    "print(\"The estimated value of sales is {}. \".format(int(prediction[0])))"
   ]
  },
  {
   "cell_type": "code",
   "execution_count": 55,
   "metadata": {
    "id": "Huv-2ZBcyazg",
    "outputId": "7e5c218d-3465-4b91-a12f-006c3556d2ce"
   },
   "outputs": [
    {
     "name": "stdout",
     "output_type": "stream",
     "text": [
      "# conda environments:\n",
      "#\n",
      "mytest                   C:\\Users\\nurel\\.conda\\envs\\mytest\n",
      "base                  *  C:\\Users\\nurel\\anaconda3\n",
      "\n",
      "\n",
      "Note: you may need to restart the kernel to use updated packages.\n"
     ]
    }
   ],
   "source": [
    "conda env list"
   ]
  },
  {
   "cell_type": "code",
   "execution_count": 56,
   "metadata": {
    "id": "-essWX-Vyazg",
    "outputId": "bf64c2b8-6333-4d5d-c863-0d0b9c66d398"
   },
   "outputs": [
    {
     "name": "stdout",
     "output_type": "stream",
     "text": [
      "Package                           Version\n",
      "--------------------------------- ---------\n",
      "absl-py                           1.4.0\n",
      "aiofiles                          22.1.0\n",
      "aiohttp                           3.8.4\n",
      "aiosignal                         1.3.1\n",
      "aiosqlite                         0.18.0\n",
      "alembic                           1.11.2\n",
      "altair                            4.2.2\n",
      "anaconda-client                   1.11.1\n",
      "anaconda-navigator                2.4.2\n",
      "anaconda-project                  0.11.1\n",
      "anyio                             3.5.0\n",
      "appdirs                           1.4.4\n",
      "argon2-cffi                       21.3.0\n",
      "argon2-cffi-bindings              21.2.0\n",
      "astroid                           2.15.6\n",
      "astropy                           5.1\n",
      "asttokens                         2.2.1\n",
      "astunparse                        1.6.3\n",
      "async-timeout                     4.0.2\n",
      "attrs                             22.1.0\n",
      "autopep8                          2.0.4\n",
      "Babel                             2.11.0\n",
      "backcall                          0.2.0\n",
      "backports.functools-lru-cache     1.6.4\n",
      "backports.tempfile                1.0\n",
      "backports.weakref                 1.0.post1\n",
      "beautifulsoup4                    4.12.2\n",
      "black                             23.7.0\n",
      "bleach                            4.1.0\n",
      "blinker                           1.6.2\n",
      "boltons                           23.0.0\n",
      "Bottleneck                        1.3.5\n",
      "brotlipy                          0.7.0\n",
      "cachetools                        5.3.0\n",
      "certifi                           2023.7.22\n",
      "cffi                              1.15.1\n",
      "chardet                           4.0.0\n",
      "charset-normalizer                2.0.4\n",
      "click                             8.1.7\n",
      "cloudpickle                       2.2.1\n",
      "clyent                            1.2.2\n",
      "cmaes                             0.10.0\n",
      "colorama                          0.4.6\n",
      "colorlog                          6.7.0\n",
      "comm                              0.1.2\n",
      "commonmark                        0.9.1\n",
      "comtypes                          1.2.0\n",
      "conda                             23.7.3\n",
      "conda-build                       3.23.3\n",
      "conda-content-trust               0.1.3\n",
      "conda-pack                        0.6.0\n",
      "conda-package-handling            2.0.2\n",
      "conda_package_streaming           0.7.0\n",
      "conda-repo-cli                    1.0.41\n",
      "conda-token                       0.4.0\n",
      "conda-verify                      3.4.2\n",
      "contourpy                         1.0.5\n",
      "cryptography                      39.0.1\n",
      "cycler                            0.11.0\n",
      "cytoolz                           0.12.0\n",
      "dask                              2023.6.0\n",
      "debugpy                           1.6.4\n",
      "decorator                         5.1.1\n",
      "defusedxml                        0.7.1\n",
      "dill                              0.3.6\n",
      "echo                              0.5\n",
      "entrypoints                       0.4\n",
      "et-xmlfile                        1.1.0\n",
      "example-package                   0.0.1\n",
      "executing                         1.2.0\n",
      "fast-histogram                    0.9\n",
      "fastjsonschema                    2.16.2\n",
      "filelock                          3.9.0\n",
      "flatbuffers                       23.5.26\n",
      "fonttools                         4.25.0\n",
      "freetype-py                       2.2.0\n",
      "frozenlist                        1.4.0\n",
      "fsspec                            2023.4.0\n",
      "future                            0.18.3\n",
      "gast                              0.4.0\n",
      "gitdb                             4.0.10\n",
      "GitPython                         3.1.32\n",
      "glob2                             0.7\n",
      "glue-core                         1.2.4\n",
      "glue-vispy-viewers                1.0.5\n",
      "google-auth                       2.17.3\n",
      "google-auth-oauthlib              1.0.0\n",
      "google-pasta                      0.2.0\n",
      "greenlet                          2.0.2\n",
      "grpcio                            1.56.2\n",
      "gspread                           5.8.0\n",
      "gTTS                              2.3.2\n",
      "h5py                              3.7.0\n",
      "hsluv                             5.0.3\n",
      "idna                              3.4\n",
      "imagecodecs                       2021.8.26\n",
      "imageio                           2.26.0\n",
      "imbalanced-learn                  0.11.0\n",
      "imblearn                          0.0\n",
      "importlib-metadata                6.0.0\n",
      "ipykernel                         6.19.3\n",
      "ipyparallel                       8.6.1\n",
      "ipython                           8.12.0\n",
      "ipython-genutils                  0.2.0\n",
      "ipython-sql                       0.5.0\n",
      "ipywidgets                        8.0.6\n",
      "isort                             5.12.0\n",
      "jedi                              0.18.2\n",
      "Jinja2                            3.1.2\n",
      "joblib                            1.2.0\n",
      "json5                             0.9.6\n",
      "jsonpatch                         1.32\n",
      "jsonpointer                       2.1\n",
      "jsonschema                        4.17.3\n",
      "jupyter                           1.0.0\n",
      "jupyter-black                     0.3.4\n",
      "jupyter_client                    7.4.9\n",
      "jupyter-console                   6.6.3\n",
      "jupyter-contrib-core              0.4.2\n",
      "jupyter-contrib-nbextensions      0.7.0\n",
      "jupyter_core                      5.1.0\n",
      "jupyter-events                    0.6.3\n",
      "jupyter-highlight-selected-word   0.2.0\n",
      "jupyter-latex-envs                1.4.6\n",
      "jupyter-nbextensions-configurator 0.6.1\n",
      "jupyter-server                    1.23.4\n",
      "jupyter_server_fileid             0.9.0\n",
      "jupyter_server_terminals          0.4.4\n",
      "jupyter_server_ydoc               0.8.0\n",
      "jupyter-ydoc                      0.2.4\n",
      "jupyterlab                        3.6.3\n",
      "jupyterlab-pygments               0.1.2\n",
      "jupyterlab_server                 2.22.0\n",
      "jupyterlab-widgets                3.0.7\n",
      "keras                             2.13.1\n",
      "kiwisolver                        1.4.4\n",
      "lazy_loader                       0.2\n",
      "lazy-object-proxy                 1.9.0\n",
      "libarchive-c                      2.9\n",
      "libclang                          16.0.6\n",
      "locket                            1.0.0\n",
      "lxml                              4.9.2\n",
      "Mako                              1.2.4\n",
      "Markdown                          3.4.4\n",
      "MarkupSafe                        2.1.1\n",
      "matplotlib                        3.7.1\n",
      "matplotlib-inline                 0.1.6\n",
      "mccabe                            0.7.0\n",
      "menuinst                          1.4.19\n",
      "mistune                           0.8.4\n",
      "mkl-fft                           1.3.1\n",
      "mkl-random                        1.2.2\n",
      "mkl-service                       2.4.0\n",
      "mpl-scatter-density               0.7\n",
      "multidict                         6.0.4\n",
      "munkres                           1.1.4\n",
      "mypy-extensions                   1.0.0\n",
      "navigator-updater                 0.4.0\n",
      "nb-conda-kernels                  2.3.1\n",
      "nbclassic                         0.5.5\n",
      "nbclient                          0.5.13\n",
      "nbconvert                         6.5.4\n",
      "nbformat                          5.7.0\n",
      "nest-asyncio                      1.5.6\n",
      "networkx                          2.8.4\n",
      "nltk                              3.8.1\n",
      "notebook                          6.5.4\n",
      "notebook_shim                     0.2.2\n",
      "numexpr                           2.8.4\n",
      "numpy                             1.24.2\n",
      "oauthlib                          3.2.2\n",
      "openai                            0.27.8\n",
      "openpyxl                          3.0.10\n",
      "opt-einsum                        3.3.0\n",
      "optuna                            3.3.0\n",
      "packaging                         22.0\n",
      "pandas                            1.5.3\n",
      "pandocfilters                     1.5.0\n",
      "parso                             0.8.3\n",
      "partd                             1.2.0\n",
      "pathlib                           1.0.1\n",
      "pathspec                          0.11.1\n",
      "patsy                             0.5.3\n",
      "pep8                              1.7.1\n",
      "pickleshare                       0.7.5\n",
      "Pillow                            9.4.0\n",
      "pip                               23.2.1\n",
      "pkginfo                           1.9.6\n",
      "platformdirs                      2.6.0\n",
      "plotly                            5.9.0\n",
      "pluggy                            1.0.0\n",
      "ply                               3.11\n",
      "pooch                             1.4.0\n",
      "prettytable                       3.7.0\n",
      "prometheus-client                 0.14.1\n",
      "prompt-toolkit                    3.0.36\n",
      "protobuf                          3.20.3\n",
      "psutil                            5.9.4\n",
      "pure-eval                         0.2.2\n",
      "pyarrow                           13.0.0\n",
      "pyasn1                            0.5.0\n",
      "pyasn1-modules                    0.3.0\n",
      "pycodestyle                       2.11.0\n",
      "pycosat                           0.6.4\n",
      "pycparser                         2.21\n",
      "pydeck                            0.8.1b0\n",
      "pyerfa                            2.0.0\n",
      "Pygments                          2.13.0\n",
      "PyJWT                             2.4.0\n",
      "pylint                            2.17.5\n",
      "Pympler                           1.0.1\n",
      "pyodbc                            4.0.39\n",
      "PyOpenGL                          3.1.1a1\n",
      "pyOpenSSL                         23.2.0\n",
      "pyparsing                         3.0.9\n",
      "PyPDF2                            3.0.1\n",
      "pypiwin32                         223\n",
      "PyQt5                             5.15.7\n",
      "PyQt5-sip                         12.11.0\n",
      "pyrsistent                        0.18.0\n",
      "PySocks                           1.7.1\n",
      "python-dateutil                   2.8.2\n",
      "python-json-logger                2.0.7\n",
      "pyttsx3                           2.90\n",
      "pytz                              2022.7\n",
      "PyWavelets                        1.4.1\n",
      "pywin32                           305\n",
      "pywinpty                          2.0.10\n",
      "PyYAML                            6.0\n",
      "pyzmq                             24.0.1\n",
      "qtconsole                         5.4.2\n",
      "QtPy                              2.2.0\n",
      "regex                             2023.8.8\n",
      "requests                          2.29.0\n",
      "requests-oauthlib                 1.3.1\n",
      "rfc3339-validator                 0.1.4\n",
      "rfc3986-validator                 0.1.1\n",
      "rich                              12.6.0\n",
      "rsa                               4.9\n",
      "ruamel.yaml                       0.17.21\n",
      "ruamel.yaml.clib                  0.2.6\n",
      "ruamel-yaml-conda                 0.17.21\n",
      "scikit-image                      0.20.0\n",
      "scikit-learn                      1.2.2\n",
      "scikit-plot                       0.3.7\n",
      "scipy                             1.10.1\n",
      "seaborn                           0.12.2\n",
      "Send2Trash                        1.8.0\n",
      "setuptools                        68.1.2\n",
      "sip                               6.6.2\n",
      "six                               1.16.0\n",
      "skimpy                            0.0.8\n",
      "smmap                             5.0.0\n",
      "sniffio                           1.2.0\n",
      "soupsieve                         2.4\n",
      "SQLAlchemy                        2.0.15\n",
      "sqlparse                          0.4.4\n",
      "stack-data                        0.6.2\n",
      "statsmodels                       0.13.5\n",
      "streamlit                         1.22.0\n",
      "taco                              0.1.0\n",
      "tenacity                          8.2.2\n",
      "tensorboard                       2.13.0\n",
      "tensorboard-data-server           0.7.1\n",
      "tensorflow                        2.13.0\n",
      "tensorflow-estimator              2.13.0\n",
      "tensorflow-intel                  2.13.0\n",
      "tensorflow-io-gcs-filesystem      0.31.0\n",
      "termcolor                         2.1.0\n",
      "terminado                         0.17.1\n",
      "threadpoolctl                     2.2.0\n",
      "tifffile                          2021.7.2\n",
      "tinycss2                          1.2.1\n",
      "tokenize-rt                       5.1.0\n",
      "toml                              0.10.2\n",
      "tomli                             2.0.1\n",
      "tomlkit                           0.12.1\n",
      "toolz                             0.12.0\n",
      "tornado                           6.2\n",
      "tqdm                              4.65.0\n",
      "traitlets                         5.8.0\n",
      "typeguard                         2.13.3\n",
      "typing_extensions                 4.5.0\n",
      "tzdata                            2023.3\n",
      "tzlocal                           5.0.1\n",
      "ujson                             5.4.0\n",
      "urllib3                           1.26.16\n",
      "validators                        0.21.2\n",
      "vispy                             0.12.1\n",
      "visualpython                      2.4.8\n",
      "watchdog                          3.0.0\n",
      "wcwidth                           0.2.5\n",
      "webencodings                      0.5.1\n",
      "websocket-client                  0.58.0\n",
      "Werkzeug                          2.3.6\n",
      "wheel                             0.41.2\n",
      "widgetsnbextension                4.0.7\n",
      "win-inet-pton                     1.1.0\n",
      "wincertstore                      0.2\n",
      "wrapt                             1.15.0\n",
      "xlrd                              2.0.1\n",
      "y-py                              0.5.9\n",
      "yarl                              1.9.2\n",
      "yellowbrick                       1.5\n",
      "ypy-websocket                     0.8.2\n",
      "zipp                              3.11.0\n",
      "zstandard                         0.19.0\n",
      "Note: you may need to restart the kernel to use updated packages.\n"
     ]
    },
    {
     "name": "stderr",
     "output_type": "stream",
     "text": [
      "WARNING: No metadata found in c:\\users\\nurel\\anaconda3\\lib\\site-packages\n"
     ]
    }
   ],
   "source": [
    "pip list"
   ]
  },
  {
   "cell_type": "code",
   "execution_count": null,
   "metadata": {
    "id": "tB5Fy5Ofyazg",
    "outputId": "04eb1fb2-e6ca-405a-fe81-11b012a144e7"
   },
   "outputs": [],
   "source": [
    "#pip install -r requirements.txt# Streamlit Documentation: https://docs.streamlit.io/\n"
   ]
  },
  {
   "cell_type": "code",
   "execution_count": 57,
   "metadata": {
    "id": "vOuO15G_yazh",
    "outputId": "9a53dc7c-0904-4ad0-b213-5123b5a85386"
   },
   "outputs": [
    {
     "name": "stdout",
     "output_type": "stream",
     "text": [
      "Package                           Version\n",
      "--------------------------------- ---------\n",
      "absl-py                           1.4.0\n",
      "aiofiles                          22.1.0\n",
      "aiohttp                           3.8.4\n",
      "aiosignal                         1.3.1\n",
      "aiosqlite                         0.18.0\n",
      "alembic                           1.11.2\n",
      "altair                            4.2.2\n",
      "anaconda-client                   1.11.1\n",
      "anaconda-navigator                2.4.2\n",
      "anaconda-project                  0.11.1\n",
      "anyio                             3.5.0\n",
      "appdirs                           1.4.4\n",
      "argon2-cffi                       21.3.0\n",
      "argon2-cffi-bindings              21.2.0\n",
      "astroid                           2.15.6\n",
      "astropy                           5.1\n",
      "asttokens                         2.2.1\n",
      "astunparse                        1.6.3\n",
      "async-timeout                     4.0.2\n",
      "attrs                             22.1.0\n",
      "autopep8                          2.0.4\n",
      "Babel                             2.11.0\n",
      "backcall                          0.2.0\n",
      "backports.functools-lru-cache     1.6.4\n",
      "backports.tempfile                1.0\n",
      "backports.weakref                 1.0.post1\n",
      "beautifulsoup4                    4.12.2\n",
      "black                             23.7.0\n",
      "bleach                            4.1.0\n",
      "blinker                           1.6.2\n",
      "boltons                           23.0.0\n",
      "Bottleneck                        1.3.5\n",
      "brotlipy                          0.7.0\n",
      "cachetools                        5.3.0\n",
      "certifi                           2023.7.22\n",
      "cffi                              1.15.1\n",
      "chardet                           4.0.0\n",
      "charset-normalizer                2.0.4\n",
      "click                             8.1.7\n",
      "cloudpickle                       2.2.1\n",
      "clyent                            1.2.2\n",
      "cmaes                             0.10.0\n",
      "colorama                          0.4.6\n",
      "colorlog                          6.7.0\n",
      "comm                              0.1.2\n",
      "commonmark                        0.9.1\n",
      "comtypes                          1.2.0\n",
      "conda                             23.7.3\n",
      "conda-build                       3.23.3\n",
      "conda-content-trust               0.1.3\n",
      "conda-pack                        0.6.0\n",
      "conda-package-handling            2.0.2\n",
      "conda_package_streaming           0.7.0\n",
      "conda-repo-cli                    1.0.41\n",
      "conda-token                       0.4.0\n",
      "conda-verify                      3.4.2\n",
      "contourpy                         1.0.5\n",
      "cryptography                      39.0.1\n",
      "cycler                            0.11.0\n",
      "cytoolz                           0.12.0\n",
      "dask                              2023.6.0\n",
      "debugpy                           1.6.4\n",
      "decorator                         5.1.1\n",
      "defusedxml                        0.7.1\n",
      "dill                              0.3.6\n",
      "echo                              0.5\n",
      "entrypoints                       0.4\n",
      "et-xmlfile                        1.1.0\n",
      "example-package                   0.0.1\n",
      "executing                         1.2.0\n",
      "fast-histogram                    0.9\n",
      "fastjsonschema                    2.16.2\n",
      "filelock                          3.9.0\n",
      "flatbuffers                       23.5.26\n",
      "fonttools                         4.25.0\n",
      "freetype-py                       2.2.0\n",
      "frozenlist                        1.4.0\n",
      "fsspec                            2023.4.0\n",
      "future                            0.18.3\n",
      "gast                              0.4.0\n",
      "gitdb                             4.0.10\n",
      "GitPython                         3.1.32\n",
      "glob2                             0.7\n",
      "glue-core                         1.2.4\n",
      "glue-vispy-viewers                1.0.5\n",
      "google-auth                       2.17.3\n",
      "google-auth-oauthlib              1.0.0\n",
      "google-pasta                      0.2.0\n",
      "greenlet                          2.0.2\n",
      "grpcio                            1.56.2\n",
      "gspread                           5.8.0\n",
      "gTTS                              2.3.2\n",
      "h5py                              3.7.0\n",
      "hsluv                             5.0.3\n",
      "idna                              3.4\n",
      "imagecodecs                       2021.8.26\n",
      "imageio                           2.26.0\n",
      "imbalanced-learn                  0.11.0\n",
      "imblearn                          0.0\n",
      "importlib-metadata                6.0.0\n",
      "ipykernel                         6.19.3\n",
      "ipyparallel                       8.6.1\n",
      "ipython                           8.12.0\n",
      "ipython-genutils                  0.2.0\n",
      "ipython-sql                       0.5.0\n",
      "ipywidgets                        8.0.6\n",
      "isort                             5.12.0\n",
      "jedi                              0.18.2\n",
      "Jinja2                            3.1.2\n",
      "joblib                            1.2.0\n",
      "json5                             0.9.6\n",
      "jsonpatch                         1.32\n",
      "jsonpointer                       2.1\n",
      "jsonschema                        4.17.3\n",
      "jupyter                           1.0.0\n",
      "jupyter-black                     0.3.4\n",
      "jupyter_client                    7.4.9\n",
      "jupyter-console                   6.6.3\n",
      "jupyter-contrib-core              0.4.2\n",
      "jupyter-contrib-nbextensions      0.7.0\n",
      "jupyter_core                      5.1.0\n",
      "jupyter-events                    0.6.3\n",
      "jupyter-highlight-selected-word   0.2.0\n",
      "jupyter-latex-envs                1.4.6\n",
      "jupyter-nbextensions-configurator 0.6.1\n",
      "jupyter-server                    1.23.4\n",
      "jupyter_server_fileid             0.9.0\n",
      "jupyter_server_terminals          0.4.4\n",
      "jupyter_server_ydoc               0.8.0\n",
      "jupyter-ydoc                      0.2.4\n",
      "jupyterlab                        3.6.3\n",
      "jupyterlab-pygments               0.1.2\n",
      "jupyterlab_server                 2.22.0\n",
      "jupyterlab-widgets                3.0.7\n",
      "keras                             2.13.1\n",
      "kiwisolver                        1.4.4\n",
      "lazy_loader                       0.2\n",
      "lazy-object-proxy                 1.9.0\n",
      "libarchive-c                      2.9\n",
      "libclang                          16.0.6\n",
      "locket                            1.0.0\n",
      "lxml                              4.9.2\n",
      "Mako                              1.2.4\n",
      "Markdown                          3.4.4\n",
      "MarkupSafe                        2.1.1\n",
      "matplotlib                        3.7.1\n",
      "matplotlib-inline                 0.1.6\n",
      "mccabe                            0.7.0\n",
      "menuinst                          1.4.19\n",
      "mistune                           0.8.4\n",
      "mkl-fft                           1.3.1\n",
      "mkl-random                        1.2.2\n",
      "mkl-service                       2.4.0\n",
      "mpl-scatter-density               0.7\n",
      "multidict                         6.0.4\n",
      "munkres                           1.1.4\n",
      "mypy-extensions                   1.0.0\n",
      "navigator-updater                 0.4.0\n",
      "nb-conda-kernels                  2.3.1\n",
      "nbclassic                         0.5.5\n",
      "nbclient                          0.5.13\n",
      "nbconvert                         6.5.4\n",
      "nbformat                          5.7.0\n",
      "nest-asyncio                      1.5.6\n",
      "networkx                          2.8.4\n",
      "nltk                              3.8.1\n",
      "notebook                          6.5.4\n",
      "notebook_shim                     0.2.2\n",
      "numexpr                           2.8.4\n",
      "numpy                             1.24.2\n",
      "oauthlib                          3.2.2\n",
      "openai                            0.27.8\n",
      "openpyxl                          3.0.10\n",
      "opt-einsum                        3.3.0\n",
      "optuna                            3.3.0\n",
      "packaging                         22.0\n",
      "pandas                            1.5.3\n",
      "pandocfilters                     1.5.0\n",
      "parso                             0.8.3\n",
      "partd                             1.2.0\n",
      "pathlib                           1.0.1\n",
      "pathspec                          0.11.1\n",
      "patsy                             0.5.3\n",
      "pep8                              1.7.1\n",
      "pickleshare                       0.7.5\n",
      "Pillow                            9.4.0\n",
      "pip                               23.2.1\n",
      "pkginfo                           1.9.6\n",
      "platformdirs                      2.6.0\n",
      "plotly                            5.9.0\n",
      "pluggy                            1.0.0\n",
      "ply                               3.11\n",
      "pooch                             1.4.0\n",
      "prettytable                       3.7.0\n",
      "prometheus-client                 0.14.1\n",
      "prompt-toolkit                    3.0.36\n",
      "protobuf                          3.20.3\n",
      "psutil                            5.9.4\n",
      "pure-eval                         0.2.2\n",
      "pyarrow                           13.0.0\n",
      "pyasn1                            0.5.0\n",
      "pyasn1-modules                    0.3.0\n",
      "pycodestyle                       2.11.0\n",
      "pycosat                           0.6.4\n",
      "pycparser                         2.21\n",
      "pydeck                            0.8.1b0\n",
      "pyerfa                            2.0.0\n",
      "Pygments                          2.13.0\n",
      "PyJWT                             2.4.0\n",
      "pylint                            2.17.5\n",
      "Pympler                           1.0.1\n",
      "pyodbc                            4.0.39\n",
      "PyOpenGL                          3.1.1a1\n",
      "pyOpenSSL                         23.2.0\n",
      "pyparsing                         3.0.9\n",
      "PyPDF2                            3.0.1\n",
      "pypiwin32                         223\n",
      "PyQt5                             5.15.7\n",
      "PyQt5-sip                         12.11.0\n",
      "pyrsistent                        0.18.0\n",
      "PySocks                           1.7.1\n",
      "python-dateutil                   2.8.2\n",
      "python-json-logger                2.0.7\n",
      "pyttsx3                           2.90\n",
      "pytz                              2022.7\n",
      "PyWavelets                        1.4.1\n",
      "pywin32                           305\n",
      "pywinpty                          2.0.10\n",
      "PyYAML                            6.0\n",
      "pyzmq                             24.0.1\n",
      "qtconsole                         5.4.2\n",
      "QtPy                              2.2.0\n",
      "regex                             2023.8.8\n",
      "requests                          2.29.0\n",
      "requests-oauthlib                 1.3.1\n",
      "rfc3339-validator                 0.1.4\n",
      "rfc3986-validator                 0.1.1\n",
      "rich                              12.6.0\n",
      "rsa                               4.9\n",
      "ruamel.yaml                       0.17.21\n",
      "ruamel.yaml.clib                  0.2.6\n",
      "ruamel-yaml-conda                 0.17.21\n",
      "scikit-image                      0.20.0\n",
      "scikit-learn                      1.2.2\n",
      "scikit-plot                       0.3.7\n",
      "scipy                             1.10.1\n",
      "seaborn                           0.12.2\n",
      "Send2Trash                        1.8.0\n",
      "setuptools                        68.1.2\n",
      "sip                               6.6.2\n",
      "six                               1.16.0\n",
      "skimpy                            0.0.8\n",
      "smmap                             5.0.0\n",
      "sniffio                           1.2.0\n",
      "soupsieve                         2.4\n",
      "SQLAlchemy                        2.0.15\n",
      "sqlparse                          0.4.4\n",
      "stack-data                        0.6.2\n",
      "statsmodels                       0.13.5\n",
      "streamlit                         1.22.0\n",
      "taco                              0.1.0\n",
      "tenacity                          8.2.2\n",
      "tensorboard                       2.13.0\n",
      "tensorboard-data-server           0.7.1\n",
      "tensorflow                        2.13.0\n",
      "tensorflow-estimator              2.13.0\n",
      "tensorflow-intel                  2.13.0\n",
      "tensorflow-io-gcs-filesystem      0.31.0\n",
      "termcolor                         2.1.0\n",
      "terminado                         0.17.1\n",
      "threadpoolctl                     2.2.0\n",
      "tifffile                          2021.7.2\n",
      "tinycss2                          1.2.1\n",
      "tokenize-rt                       5.1.0\n",
      "toml                              0.10.2\n",
      "tomli                             2.0.1\n",
      "tomlkit                           0.12.1\n",
      "toolz                             0.12.0\n",
      "tornado                           6.2\n",
      "tqdm                              4.65.0\n",
      "traitlets                         5.8.0\n",
      "typeguard                         2.13.3\n",
      "typing_extensions                 4.5.0\n",
      "tzdata                            2023.3\n",
      "tzlocal                           5.0.1\n",
      "ujson                             5.4.0\n",
      "urllib3                           1.26.16\n",
      "validators                        0.21.2\n",
      "vispy                             0.12.1\n",
      "visualpython                      2.4.8\n",
      "watchdog                          3.0.0\n",
      "wcwidth                           0.2.5\n",
      "webencodings                      0.5.1\n",
      "websocket-client                  0.58.0\n",
      "Werkzeug                          2.3.6\n",
      "wheel                             0.41.2\n",
      "widgetsnbextension                4.0.7\n",
      "win-inet-pton                     1.1.0\n",
      "wincertstore                      0.2\n",
      "wrapt                             1.15.0\n",
      "xlrd                              2.0.1\n",
      "y-py                              0.5.9\n",
      "yarl                              1.9.2\n",
      "yellowbrick                       1.5\n",
      "ypy-websocket                     0.8.2\n",
      "zipp                              3.11.0\n",
      "zstandard                         0.19.0\n",
      "Note: you may need to restart the kernel to use updated packages.\n"
     ]
    },
    {
     "name": "stderr",
     "output_type": "stream",
     "text": [
      "WARNING: No metadata found in c:\\users\\nurel\\anaconda3\\lib\\site-packages\n"
     ]
    }
   ],
   "source": [
    "pip list"
   ]
  },
  {
   "cell_type": "code",
   "execution_count": null,
   "metadata": {
    "id": "1zYfpWhhyazh",
    "outputId": "c45a4398-99a0-48a8-ada2-b898952acdfc"
   },
   "outputs": [],
   "source": [
    "!streamlit run my_app.py"
   ]
  },
  {
   "cell_type": "code",
   "execution_count": null,
   "metadata": {
    "id": "On_4dYy1yazh"
   },
   "outputs": [],
   "source": [
    "import streamlit as st\n",
    "import pandas as pd\n",
    "import numpy as np\n",
    "from PIL import Image  # to deal with images (PIL: Python imaging library)"
   ]
  },
  {
   "cell_type": "code",
   "execution_count": null,
   "metadata": {},
   "outputs": [],
   "source": [
    "# Title/Text\n",
    "st.title(\"This is a title\")\n",
    "st.text(\"This is some test.\")"
   ]
  },
  {
   "cell_type": "code",
   "execution_count": null,
   "metadata": {},
   "outputs": [],
   "source": [
    "# Markdown\n",
    "st.markdown(\"Streamlit is **_really_ cool** :+1:\")\n",
    "st.markdown(\"# This is a markdown\")\n",
    "st.markdown(\"## This is a markdown\")\n",
    "st.markdown(\"### This is a markdown\")"
   ]
  },
  {
   "cell_type": "code",
   "execution_count": null,
   "metadata": {},
   "outputs": [],
   "source": [
    "# Header/Subheader\n",
    "st.header('This is a header')\n",
    "st.subheader('This is a subheader')"
   ]
  },
  {
   "cell_type": "code",
   "execution_count": null,
   "metadata": {},
   "outputs": [],
   "source": [
    "\n",
    "# Success/Info/Error\n",
    "st.success('This is a success message!')\n",
    "st.info('This is a purely informational message')\n",
    "st.error(\"This is an error.\")\n",
    "st.warning(\"This is a warning message!\")\n",
    "st.exception(\"NameError('name there is not defined')\")\n"
   ]
  },
  {
   "cell_type": "code",
   "execution_count": null,
   "metadata": {},
   "outputs": [],
   "source": [
    "# Help\n",
    "st.help(range)\n"
   ]
  },
  {
   "cell_type": "code",
   "execution_count": null,
   "metadata": {},
   "outputs": [],
   "source": [
    "\n",
    "# Write\n",
    "st.write(\"Hello World! :sunglasses:\")\n"
   ]
  },
  {
   "cell_type": "code",
   "execution_count": null,
   "metadata": {},
   "outputs": [],
   "source": [
    "# Add image\n",
    "#img = Image.open(\"images.jpeg\")\n",
    "#st.image(img, caption=\"cattie\", width=300)"
   ]
  },
  {
   "cell_type": "code",
   "execution_count": null,
   "metadata": {},
   "outputs": [],
   "source": [
    "# Add video\n",
    "\n",
    "#my_video = open(\"videoname\",'rb')\n",
    "#st.video(my_video)\n"
   ]
  },
  {
   "cell_type": "code",
   "execution_count": null,
   "metadata": {},
   "outputs": [],
   "source": [
    "# Add youtube video\n",
    "st.video(\"https://www.youtube.com/watch?v=uHKfrz65KSU\")\n"
   ]
  },
  {
   "cell_type": "code",
   "execution_count": null,
   "metadata": {},
   "outputs": [],
   "source": [
    "cbox= st.checkbox(\"Hide and Seek\")\n",
    "if cbox :\n",
    "    st.write(\"Hide\")\n",
    "else :\n",
    "    st.write(\"Seek\")\n"
   ]
  },
  {
   "cell_type": "code",
   "execution_count": null,
   "metadata": {},
   "outputs": [],
   "source": [
    "# Add radio button\n",
    "status = st.radio(\"Select a color\",(\"blue\",\"orange\",\"yellow\"))\n",
    "st.write(\"My favorite color is \", status)"
   ]
  },
  {
   "cell_type": "code",
   "execution_count": null,
   "metadata": {},
   "outputs": [],
   "source": [
    "# Add button\n",
    "st.button(\"Click me\")\n",
    "\n",
    "if st.button(\"Press me\") :\n",
    "    st.success(\"Analyze Results are..\")"
   ]
  },
  {
   "cell_type": "code",
   "execution_count": null,
   "metadata": {},
   "outputs": [],
   "source": [
    "\n",
    "# Add select box\n",
    "occupation=st.selectbox(\"Your Occupation\", [\"Programmer\", \"DataScientist\", \"Doctor\"])\n",
    "st.write(\"Your Occupation is \", occupation)\n"
   ]
  },
  {
   "cell_type": "code",
   "execution_count": null,
   "metadata": {},
   "outputs": [],
   "source": [
    "# Multi_select\n",
    "multi_select = st.multiselect(\"Select multiple numbers\",[1,2,3,4,5])\n",
    "st.write(f\"You selected {len(multi_select)} number(s)\")\n",
    "st.write(\"Your selection is/are\", multi_select)\n",
    "for i in range(len(multi_select)):\n",
    "    st.write(f\"Your {i+1}. selection is {multi_select[i]}\")\n"
   ]
  },
  {
   "cell_type": "code",
   "execution_count": null,
   "metadata": {},
   "outputs": [],
   "source": [
    "\n",
    "# Slider\n",
    "option1 = st.slider(\"Select a number\", min_value=5, max_value=70, step=5)\n",
    "option2 = st.slider(\"Select a number\", min_value=0.2, max_value=30.2, value=5.2, step=0.2)\n",
    "\n"
   ]
  },
  {
   "cell_type": "code",
   "execution_count": null,
   "metadata": {},
   "outputs": [],
   "source": [
    "\n",
    "\n",
    "result=option1*option2\n",
    "st.write(\"multiplication of two options is:\",result)\n"
   ]
  },
  {
   "cell_type": "code",
   "execution_count": null,
   "metadata": {},
   "outputs": [],
   "source": [
    "\n",
    "\n",
    "# Text_input\n",
    "name = st.text_input(\"Enter your name\", placeholder=\"Your name here please\")\n",
    "if st.button(\"Submit\"):\n",
    "    st.write(\"Hello {}\".format(name.title()))\n"
   ]
  },
  {
   "cell_type": "code",
   "execution_count": null,
   "metadata": {},
   "outputs": [],
   "source": [
    "\n",
    "# Code  # to show as if code\n",
    "st.code(\"import pandas as pd\")\n",
    "st.code(\"import pandas as pd\\nimport numpy as np\")\n"
   ]
  },
  {
   "cell_type": "code",
   "execution_count": null,
   "metadata": {},
   "outputs": [],
   "source": [
    "\n",
    "# Echo  # it is used \"with block\" to draw some code on the app, then execute it\n",
    "with st.echo():\n",
    "    import pandas as pd\n",
    "    import numpy as np\n",
    "    df = pd.DataFrame({\"a\":[1,2,3], \"b\":[4,5,6]})\n",
    "    df\n"
   ]
  },
  {
   "cell_type": "code",
   "execution_count": null,
   "metadata": {},
   "outputs": [],
   "source": [
    "\n",
    "# Date input\n",
    "import datetime\n",
    "today=st.date_input(\"Today is\")\n",
    "date=st.date_input(\"Enter the date\")\n"
   ]
  },
  {
   "cell_type": "code",
   "execution_count": null,
   "metadata": {},
   "outputs": [],
   "source": [
    "\n",
    "# Time input\n",
    "the_time=st.time_input(\"The time is\", datetime.time(8, 45))\n",
    "hour=st.time_input(str(pd.Timestamp.now()))\n",
    "st.write(\"Hour is\", hour)\n"
   ]
  },
  {
   "cell_type": "code",
   "execution_count": null,
   "metadata": {},
   "outputs": [],
   "source": [
    "\n",
    "# Sidebar\n",
    "st.sidebar.title(\"Sidebar title\")\n",
    "st.sidebar.header(\"Sidebar header\")\n"
   ]
  },
  {
   "cell_type": "code",
   "execution_count": null,
   "metadata": {},
   "outputs": [],
   "source": [
    "\n",
    "# Sidebar with slider\n",
    "a=st.sidebar.slider(\"input\",0,5,2,1)\n",
    "x=st.sidebar.slider(\"input2\")\n",
    "st.write(\"# sidebar input result\")\n",
    "st.success(a*x)\n"
   ]
  },
  {
   "cell_type": "code",
   "execution_count": null,
   "metadata": {},
   "outputs": [],
   "source": [
    "\n",
    "# Dataframe\n",
    "#df=pd.read_csv(\".csv\")\n"
   ]
  },
  {
   "cell_type": "code",
   "execution_count": null,
   "metadata": {},
   "outputs": [],
   "source": [
    "\n",
    "# To display dataframe there are 3 methods\n",
    "\n",
    "# Method 1\n",
    "st.table(df.head())\n"
   ]
  },
  {
   "cell_type": "code",
   "execution_count": null,
   "metadata": {},
   "outputs": [],
   "source": [
    "# Method 2\n",
    "st.write(df.head())  # dynamic, you can sort\n"
   ]
  },
  {
   "cell_type": "code",
   "execution_count": null,
   "metadata": {},
   "outputs": [],
   "source": [
    "# Method 3\n",
    "st.dataframe(df.head()) \n"
   ]
  },
  {
   "cell_type": "code",
   "execution_count": null,
   "metadata": {},
   "outputs": [],
   "source": [
    "\n",
    "# To load machine learning model\n",
    "import pickle\n",
    "filename = \"my_model\"\n",
    "model=pickle.load(open(filename, \"rb\"))\n"
   ]
  },
  {
   "cell_type": "code",
   "execution_count": null,
   "metadata": {},
   "outputs": [],
   "source": [
    "\n",
    "# To take feature inputs\n",
    "age = st.sidebar.number_input(\"TV:\",min_value=0, max_value=20)\n",
    "hp_kW = st.sidebar.number_input(\"radio:\",min_value=25, max_value=1,176)\n",
    "'km' = st.sidebar.number_input(\"newspaper:\",min_value=0, max_value=200000)\n"
   ]
  },
  {
   "cell_type": "code",
   "execution_count": null,
   "metadata": {},
   "outputs": [],
   "source": [
    "\n",
    "# Create a dataframe using feature inputs\n",
    "my_dict = {\n",
    "    \"age\": 2,\n",
    "    'hp_kW': 1500,\n",
    "    'km' : 85000,\n",
    "    'Gearing_Type': \"manual\",\n",
    "    'make_model' :\"Audi A1\",\n",
    "}\n",
    "df = pd.DataFrame.from_dict([my_dict])\n",
    "st.table(df)"
   ]
  },
  {
   "cell_type": "code",
   "execution_count": null,
   "metadata": {},
   "outputs": [],
   "source": [
    "# Prediction with user inputs\n",
    "predict = st.button(\"Predict\")\n",
    "result =LRmodel_pipe.predict(df)\n",
    "if predict :\n",
    "    st.success(result[0])"
   ]
  }
 ],
 "metadata": {
  "colab": {
   "provenance": []
  },
  "interpreter": {
   "hash": "c0bb56354a4e9355a7d6dfafff752e037850e37f95314bb813d6fca6f4e76bce"
  },
  "kernelspec": {
   "display_name": "Python 3 (ipykernel)",
   "language": "python",
   "name": "python3"
  },
  "language_info": {
   "codemirror_mode": {
    "name": "ipython",
    "version": 3
   },
   "file_extension": ".py",
   "mimetype": "text/x-python",
   "name": "python",
   "nbconvert_exporter": "python",
   "pygments_lexer": "ipython3",
   "version": "3.10.10"
  },
  "nbTranslate": {
   "displayLangs": [
    "*"
   ],
   "hotkey": "alt-t",
   "langInMainMenu": true,
   "sourceLang": "en",
   "targetLang": "fr",
   "useGoogleTranslate": true
  },
  "toc": {
   "base_numbering": 1,
   "nav_menu": {},
   "number_sections": true,
   "sideBar": true,
   "skip_h1_title": false,
   "title_cell": "Table of Contents",
   "title_sidebar": "Contents",
   "toc_cell": false,
   "toc_position": {},
   "toc_section_display": true,
   "toc_window_display": false
  },
  "vp": {
   "vp_config_version": "1.0.0",
   "vp_menu_width": 273,
   "vp_note_display": false,
   "vp_note_width": 0,
   "vp_position": {
    "width": 278
   },
   "vp_section_display": false,
   "vp_signature": "VisualPython"
  }
 },
 "nbformat": 4,
 "nbformat_minor": 1
}
